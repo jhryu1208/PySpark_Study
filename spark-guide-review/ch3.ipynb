{
 "cells": [
  {
   "cell_type": "code",
   "execution_count": 2,
   "metadata": {
    "collapsed": true
   },
   "outputs": [],
   "source": [
    "from pyspark.context import SparkContext\n",
    "from pyspark.conf import SparkConf\n",
    "from pyspark.sql.functions import *\n",
    "from pyspark.sql import *\n",
    "import os"
   ]
  },
  {
   "cell_type": "code",
   "execution_count": 5,
   "outputs": [],
   "source": [
    "spark = SparkSession.builder\\\n",
    "                    .master('local[5]')\\\n",
    "                    .appName('batch job to streaming job')\\\n",
    "                    .getOrCreate()"
   ],
   "metadata": {
    "collapsed": false,
    "pycharm": {
     "name": "#%%\n"
    }
   }
  },
  {
   "cell_type": "code",
   "execution_count": 6,
   "outputs": [],
   "source": [
    "file_path = os.getcwd()+'/data/retail-data/by-day/*.csv'"
   ],
   "metadata": {
    "collapsed": false,
    "pycharm": {
     "name": "#%%\n"
    }
   }
  },
  {
   "cell_type": "code",
   "execution_count": 29,
   "outputs": [
    {
     "name": "stdout",
     "output_type": "stream",
     "text": [
      "+-----------+------------+------------------+\n",
      "|customer_id|invoice_date|    sum_total_cost|\n",
      "+-----------+------------+------------------+\n",
      "|    17450.0|  2011-09-20|          71601.44|\n",
      "|       null|  2011-11-14|          55316.08|\n",
      "|       null|  2011-11-07|          42939.17|\n",
      "|       null|  2011-03-29| 33521.39999999998|\n",
      "|       null|  2011-12-08|31975.590000000007|\n",
      "|    18102.0|  2011-09-15|31661.540000000005|\n",
      "|       null|  2010-12-21|31347.479999999938|\n",
      "|    18102.0|  2011-10-21|          29693.82|\n",
      "|    18102.0|  2010-12-07|          25920.37|\n",
      "|    14646.0|  2011-10-20|25833.559999999994|\n",
      "|       null|  2010-12-10|25399.560000000012|\n",
      "|       null|  2010-12-17|25371.769999999768|\n",
      "|       null|  2011-11-25|24148.069999999992|\n",
      "|       null|  2011-11-29|23744.250000000055|\n",
      "|    12415.0|  2011-06-15| 23426.81000000001|\n",
      "|       null|  2010-12-06|23395.099999999904|\n",
      "|       null|  2011-08-30| 23032.59999999993|\n",
      "|       null|  2010-12-03| 23021.99999999999|\n",
      "|    15749.0|  2011-01-11|           22998.4|\n",
      "|    18102.0|  2011-10-03|          22429.69|\n",
      "+-----------+------------+------------------+\n",
      "only showing top 20 rows\n",
      "\n"
     ]
    }
   ],
   "source": [
    "# 배치 방식\n",
    "static_df = spark.read.format('csv')\\\n",
    "            .option('header', 'true')\\\n",
    "            .option('inferSchema', 'true')\\\n",
    "            .load(file_path)\n",
    "\n",
    "select_df = static_df.select(col('CustomerID').alias('customer_id'), (col('UnitPrice')*col('Quantity')).alias('total_cost'),\n",
    "                             col('InvoiceNo').alias('invoice_no'), col('InvoiceDate').alias('invoice_date'))\\\n",
    "                                 .withColumn('invoice_date', to_date(col('invoice_date')))\n",
    "\n",
    "agg_df = select_df.groupBy('customer_id', 'invoice_date').agg(sum('total_cost').alias('sum_total_cost'))\n",
    "agg_df.sort(col('sum_total_cost').desc()).show()"
   ],
   "metadata": {
    "collapsed": false,
    "pycharm": {
     "name": "#%%\n"
    }
   }
  },
  {
   "cell_type": "code",
   "execution_count": 31,
   "outputs": [
    {
     "name": "stdout",
     "output_type": "stream",
     "text": [
      "is streaming type dataframe? : True\n"
     ]
    }
   ],
   "source": [
    "# 스트리밍 방식\n",
    "staticSchema = static_df.schema\n",
    "stream_df = spark.readStream.format('csv')\\\n",
    "            .schema(staticSchema)\\\n",
    "            .option('header', 'true')\\\n",
    "            .option('maxFilesPerTrigger', 1)\\\n",
    "            .load(file_path)\n",
    "\n",
    "print(\"is streaming type dataframe? :\", stream_df.isStreaming)"
   ],
   "metadata": {
    "collapsed": false,
    "pycharm": {
     "name": "#%%\n"
    }
   }
  },
  {
   "cell_type": "code",
   "execution_count": 33,
   "outputs": [],
   "source": [
    "select_df = stream_df.select(col('CustomerID').alias('customer_id'), (col('UnitPrice')*col('Quantity')).alias('total_cost'),\n",
    "                             col('InvoiceNo').alias('invoice_no'), col('InvoiceDate').alias('invoice_date'))\\\n",
    "                                 .withColumn('invoice_date', to_date(col('invoice_date')))\n",
    "\n",
    "agg_df = select_df.groupBy('customer_id', 'invoice_date').agg(sum('total_cost').alias('sum_total_cost'))\n",
    "\n",
    "processed_stream_df = agg_df"
   ],
   "metadata": {
    "collapsed": false,
    "pycharm": {
     "name": "#%%\n"
    }
   }
  },
  {
   "cell_type": "code",
   "execution_count": 35,
   "outputs": [
    {
     "data": {
      "text/plain": "\"\\n.format('memory')\\\\  # 인메모리 테이블에 저장\\n.queryName('customer_purchases')\\\\ # 인메모리에 저장될 테이블명\\n.outputMode('complete')\\\\  #모든 카운트 수행 결과를 테이블에 저장\\n.start()\\n\""
     },
     "execution_count": 35,
     "metadata": {},
     "output_type": "execute_result"
    }
   ],
   "source": [
    "processed_stream_df.writeStream\\\n",
    "    .format('memory')\\\n",
    "    .queryName('customer_purchases')\\\n",
    "    .outputMode('complete')\\\n",
    "    .start()\n",
    "\n",
    "\"\"\"\n",
    ".format('memory')\\  # 인메모리 테이블에 저장\n",
    ".queryName('customer_purchases')\\ # 인메모리에 저장될 테이블명\n",
    ".outputMode('complete')\\  #모든 카운트 수행 결과를 테이블에 저장\n",
    ".start()\n",
    "\"\"\""
   ],
   "metadata": {
    "collapsed": false,
    "pycharm": {
     "name": "#%%\n"
    }
   }
  },
  {
   "cell_type": "code",
   "execution_count": 36,
   "outputs": [
    {
     "name": "stdout",
     "output_type": "stream",
     "text": [
      "+-----------+------------+------------------+\n",
      "|customer_id|invoice_date|    sum_total_cost|\n",
      "+-----------+------------+------------------+\n",
      "|    14825.0|  2010-12-06|184.10000000000002|\n",
      "|    15808.0|  2011-01-04|            733.92|\n",
      "|    14961.0|  2011-01-06|            -16.65|\n",
      "|    17700.0|  2010-12-09|             -9.85|\n",
      "|    12793.0|  2010-12-03|             131.8|\n",
      "|    13458.0|  2010-12-22|             -16.5|\n",
      "|    12868.0|  2011-01-27|182.45000000000002|\n",
      "|    13777.0|  2010-12-08|             255.0|\n",
      "|    15687.0|  2011-02-01| 379.1000000000001|\n",
      "|    14616.0|  2011-01-26|237.60000000000002|\n",
      "|    15640.0|  2010-12-02| 333.7199999999999|\n",
      "|    12721.0|  2010-12-09|            -27.15|\n",
      "|    16255.0|  2010-12-09|            374.25|\n",
      "|    13369.0|  2010-12-09|308.28000000000003|\n",
      "|    15165.0|  2010-12-01|            487.75|\n",
      "|    13198.0|  2010-12-14|            -10.95|\n",
      "|    16710.0|  2010-12-14|             149.5|\n",
      "|    14662.0|  2011-01-27|101.05000000000004|\n",
      "|    16029.0|  2010-12-21|             479.4|\n",
      "|    12468.0|  2011-01-27|220.58999999999995|\n",
      "+-----------+------------+------------------+\n",
      "only showing top 20 rows\n",
      "\n"
     ]
    }
   ],
   "source": [
    "spark.sql(\"\"\"\n",
    "SELECT *\n",
    "FROM customer_purchases\n",
    "ORDER BY 'total_cost' DESC\n",
    "\"\"\").show()"
   ],
   "metadata": {
    "collapsed": false,
    "pycharm": {
     "name": "#%%\n"
    }
   }
  }
 ],
 "metadata": {
  "kernelspec": {
   "display_name": "Python 3",
   "language": "python",
   "name": "python3"
  },
  "language_info": {
   "codemirror_mode": {
    "name": "ipython",
    "version": 2
   },
   "file_extension": ".py",
   "mimetype": "text/x-python",
   "name": "python",
   "nbconvert_exporter": "python",
   "pygments_lexer": "ipython2",
   "version": "2.7.6"
  }
 },
 "nbformat": 4,
 "nbformat_minor": 0
}